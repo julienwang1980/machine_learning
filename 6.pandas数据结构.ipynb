{
 "cells": [
  {
   "cell_type": "markdown",
   "id": "46384a74",
   "metadata": {},
   "source": [
    "# Series\n",
    "## serise的创建"
   ]
  },
  {
   "cell_type": "code",
   "execution_count": 1,
   "id": "7a07bb14",
   "metadata": {},
   "outputs": [],
   "source": [
    "import pandas as pd\n",
    "import numpy as np"
   ]
  },
  {
   "cell_type": "code",
   "execution_count": 2,
   "id": "aaa95b1e",
   "metadata": {},
   "outputs": [
    {
     "data": {
      "text/plain": [
       "0    0\n",
       "1    1\n",
       "2    2\n",
       "3    3\n",
       "4    4\n",
       "5    5\n",
       "6    6\n",
       "7    7\n",
       "8    8\n",
       "dtype: int64"
      ]
     },
     "execution_count": 2,
     "metadata": {},
     "output_type": "execute_result"
    }
   ],
   "source": [
    "pd.Series(np.arange(9))"
   ]
  },
  {
   "cell_type": "code",
   "execution_count": 3,
   "id": "4f9c9665",
   "metadata": {},
   "outputs": [
    {
     "data": {
      "text/plain": [
       "1    1.2\n",
       "2    2.3\n",
       "3    4.5\n",
       "4    5.0\n",
       "dtype: float64"
      ]
     },
     "execution_count": 3,
     "metadata": {},
     "output_type": "execute_result"
    }
   ],
   "source": [
    "pd.Series([1.2, 2.3, 4.5, 5.0], index=[1,2,3,4])"
   ]
  },
  {
   "cell_type": "code",
   "execution_count": 4,
   "id": "0392fd12",
   "metadata": {},
   "outputs": [
    {
     "data": {
      "text/plain": [
       "red       10\n",
       "green     20\n",
       "blue     100\n",
       "dtype: int64"
      ]
     },
     "execution_count": 4,
     "metadata": {},
     "output_type": "execute_result"
    }
   ],
   "source": [
    "color_count = pd.Series({\"red\":10, \"green\":20, \"blue\":100})\n",
    "color_count"
   ]
  },
  {
   "cell_type": "markdown",
   "id": "c193bf33",
   "metadata": {},
   "source": [
    "## Series的属性"
   ]
  },
  {
   "cell_type": "code",
   "execution_count": 5,
   "id": "6c07f1c6",
   "metadata": {},
   "outputs": [
    {
     "data": {
      "text/plain": [
       "Index(['red', 'green', 'blue'], dtype='object')"
      ]
     },
     "execution_count": 5,
     "metadata": {},
     "output_type": "execute_result"
    }
   ],
   "source": [
    "color_count.index"
   ]
  },
  {
   "cell_type": "code",
   "execution_count": 6,
   "id": "ef8712b4",
   "metadata": {},
   "outputs": [
    {
     "data": {
      "text/plain": [
       "array([ 10,  20, 100])"
      ]
     },
     "execution_count": 6,
     "metadata": {},
     "output_type": "execute_result"
    }
   ],
   "source": [
    "color_count.values"
   ]
  },
  {
   "cell_type": "code",
   "execution_count": 7,
   "id": "48da943d",
   "metadata": {},
   "outputs": [
    {
     "data": {
      "text/plain": [
       "10"
      ]
     },
     "execution_count": 7,
     "metadata": {},
     "output_type": "execute_result"
    }
   ],
   "source": [
    "color_count[0]"
   ]
  },
  {
   "cell_type": "code",
   "execution_count": 8,
   "id": "fe006379",
   "metadata": {},
   "outputs": [
    {
     "data": {
      "text/plain": [
       "20"
      ]
     },
     "execution_count": 8,
     "metadata": {},
     "output_type": "execute_result"
    }
   ],
   "source": [
    "color_count[1]"
   ]
  },
  {
   "cell_type": "markdown",
   "id": "34638d5f",
   "metadata": {},
   "source": [
    "# DataFrame\n",
    "## DataFrame的创建"
   ]
  },
  {
   "cell_type": "code",
   "execution_count": 9,
   "id": "a9c1e529",
   "metadata": {},
   "outputs": [
    {
     "data": {
      "text/html": [
       "<div>\n",
       "<style scoped>\n",
       "    .dataframe tbody tr th:only-of-type {\n",
       "        vertical-align: middle;\n",
       "    }\n",
       "\n",
       "    .dataframe tbody tr th {\n",
       "        vertical-align: top;\n",
       "    }\n",
       "\n",
       "    .dataframe thead th {\n",
       "        text-align: right;\n",
       "    }\n",
       "</style>\n",
       "<table border=\"1\" class=\"dataframe\">\n",
       "  <thead>\n",
       "    <tr style=\"text-align: right;\">\n",
       "      <th></th>\n",
       "      <th>0</th>\n",
       "      <th>1</th>\n",
       "      <th>2</th>\n",
       "    </tr>\n",
       "  </thead>\n",
       "  <tbody>\n",
       "    <tr>\n",
       "      <th>0</th>\n",
       "      <td>1.030295</td>\n",
       "      <td>0.881991</td>\n",
       "      <td>0.027700</td>\n",
       "    </tr>\n",
       "    <tr>\n",
       "      <th>1</th>\n",
       "      <td>-0.144948</td>\n",
       "      <td>1.969100</td>\n",
       "      <td>1.193789</td>\n",
       "    </tr>\n",
       "  </tbody>\n",
       "</table>\n",
       "</div>"
      ],
      "text/plain": [
       "          0         1         2\n",
       "0  1.030295  0.881991  0.027700\n",
       "1 -0.144948  1.969100  1.193789"
      ]
     },
     "execution_count": 9,
     "metadata": {},
     "output_type": "execute_result"
    }
   ],
   "source": [
    "pd.DataFrame(np.random.randn(2,3))"
   ]
  },
  {
   "cell_type": "code",
   "execution_count": 10,
   "id": "28adb993",
   "metadata": {},
   "outputs": [
    {
     "data": {
      "text/plain": [
       "array([[57, 57, 82, 55, 91],\n",
       "       [44, 87, 71, 99, 55],\n",
       "       [93, 88, 45, 89, 51],\n",
       "       [42, 77, 51, 95, 86],\n",
       "       [43, 58, 51, 77, 93],\n",
       "       [95, 89, 64, 48, 40],\n",
       "       [63, 87, 64, 60, 72],\n",
       "       [90, 78, 44, 83, 65],\n",
       "       [66, 43, 40, 68, 89],\n",
       "       [81, 75, 76, 83, 51]])"
      ]
     },
     "execution_count": 10,
     "metadata": {},
     "output_type": "execute_result"
    }
   ],
   "source": [
    "score = np.random.randint(40,100,(10, 5))\n",
    "score"
   ]
  },
  {
   "cell_type": "code",
   "execution_count": 11,
   "id": "5ad6a842",
   "metadata": {},
   "outputs": [
    {
     "data": {
      "text/html": [
       "<div>\n",
       "<style scoped>\n",
       "    .dataframe tbody tr th:only-of-type {\n",
       "        vertical-align: middle;\n",
       "    }\n",
       "\n",
       "    .dataframe tbody tr th {\n",
       "        vertical-align: top;\n",
       "    }\n",
       "\n",
       "    .dataframe thead th {\n",
       "        text-align: right;\n",
       "    }\n",
       "</style>\n",
       "<table border=\"1\" class=\"dataframe\">\n",
       "  <thead>\n",
       "    <tr style=\"text-align: right;\">\n",
       "      <th></th>\n",
       "      <th>0</th>\n",
       "      <th>1</th>\n",
       "      <th>2</th>\n",
       "      <th>3</th>\n",
       "      <th>4</th>\n",
       "    </tr>\n",
       "  </thead>\n",
       "  <tbody>\n",
       "    <tr>\n",
       "      <th>0</th>\n",
       "      <td>57</td>\n",
       "      <td>57</td>\n",
       "      <td>82</td>\n",
       "      <td>55</td>\n",
       "      <td>91</td>\n",
       "    </tr>\n",
       "    <tr>\n",
       "      <th>1</th>\n",
       "      <td>44</td>\n",
       "      <td>87</td>\n",
       "      <td>71</td>\n",
       "      <td>99</td>\n",
       "      <td>55</td>\n",
       "    </tr>\n",
       "    <tr>\n",
       "      <th>2</th>\n",
       "      <td>93</td>\n",
       "      <td>88</td>\n",
       "      <td>45</td>\n",
       "      <td>89</td>\n",
       "      <td>51</td>\n",
       "    </tr>\n",
       "    <tr>\n",
       "      <th>3</th>\n",
       "      <td>42</td>\n",
       "      <td>77</td>\n",
       "      <td>51</td>\n",
       "      <td>95</td>\n",
       "      <td>86</td>\n",
       "    </tr>\n",
       "    <tr>\n",
       "      <th>4</th>\n",
       "      <td>43</td>\n",
       "      <td>58</td>\n",
       "      <td>51</td>\n",
       "      <td>77</td>\n",
       "      <td>93</td>\n",
       "    </tr>\n",
       "    <tr>\n",
       "      <th>5</th>\n",
       "      <td>95</td>\n",
       "      <td>89</td>\n",
       "      <td>64</td>\n",
       "      <td>48</td>\n",
       "      <td>40</td>\n",
       "    </tr>\n",
       "    <tr>\n",
       "      <th>6</th>\n",
       "      <td>63</td>\n",
       "      <td>87</td>\n",
       "      <td>64</td>\n",
       "      <td>60</td>\n",
       "      <td>72</td>\n",
       "    </tr>\n",
       "    <tr>\n",
       "      <th>7</th>\n",
       "      <td>90</td>\n",
       "      <td>78</td>\n",
       "      <td>44</td>\n",
       "      <td>83</td>\n",
       "      <td>65</td>\n",
       "    </tr>\n",
       "    <tr>\n",
       "      <th>8</th>\n",
       "      <td>66</td>\n",
       "      <td>43</td>\n",
       "      <td>40</td>\n",
       "      <td>68</td>\n",
       "      <td>89</td>\n",
       "    </tr>\n",
       "    <tr>\n",
       "      <th>9</th>\n",
       "      <td>81</td>\n",
       "      <td>75</td>\n",
       "      <td>76</td>\n",
       "      <td>83</td>\n",
       "      <td>51</td>\n",
       "    </tr>\n",
       "  </tbody>\n",
       "</table>\n",
       "</div>"
      ],
      "text/plain": [
       "    0   1   2   3   4\n",
       "0  57  57  82  55  91\n",
       "1  44  87  71  99  55\n",
       "2  93  88  45  89  51\n",
       "3  42  77  51  95  86\n",
       "4  43  58  51  77  93\n",
       "5  95  89  64  48  40\n",
       "6  63  87  64  60  72\n",
       "7  90  78  44  83  65\n",
       "8  66  43  40  68  89\n",
       "9  81  75  76  83  51"
      ]
     },
     "execution_count": 11,
     "metadata": {},
     "output_type": "execute_result"
    }
   ],
   "source": [
    "score_df = pd.DataFrame(score)\n",
    "score_df"
   ]
  },
  {
   "cell_type": "code",
   "execution_count": 12,
   "id": "4e9b3b36",
   "metadata": {},
   "outputs": [
    {
     "data": {
      "text/html": [
       "<div>\n",
       "<style scoped>\n",
       "    .dataframe tbody tr th:only-of-type {\n",
       "        vertical-align: middle;\n",
       "    }\n",
       "\n",
       "    .dataframe tbody tr th {\n",
       "        vertical-align: top;\n",
       "    }\n",
       "\n",
       "    .dataframe thead th {\n",
       "        text-align: right;\n",
       "    }\n",
       "</style>\n",
       "<table border=\"1\" class=\"dataframe\">\n",
       "  <thead>\n",
       "    <tr style=\"text-align: right;\">\n",
       "      <th></th>\n",
       "      <th>语⽂</th>\n",
       "      <th>数学</th>\n",
       "      <th>英语</th>\n",
       "      <th>政治</th>\n",
       "      <th>体育</th>\n",
       "    </tr>\n",
       "  </thead>\n",
       "  <tbody>\n",
       "    <tr>\n",
       "      <th>同学0</th>\n",
       "      <td>57</td>\n",
       "      <td>57</td>\n",
       "      <td>82</td>\n",
       "      <td>55</td>\n",
       "      <td>91</td>\n",
       "    </tr>\n",
       "    <tr>\n",
       "      <th>同学1</th>\n",
       "      <td>44</td>\n",
       "      <td>87</td>\n",
       "      <td>71</td>\n",
       "      <td>99</td>\n",
       "      <td>55</td>\n",
       "    </tr>\n",
       "    <tr>\n",
       "      <th>同学2</th>\n",
       "      <td>93</td>\n",
       "      <td>88</td>\n",
       "      <td>45</td>\n",
       "      <td>89</td>\n",
       "      <td>51</td>\n",
       "    </tr>\n",
       "    <tr>\n",
       "      <th>同学3</th>\n",
       "      <td>42</td>\n",
       "      <td>77</td>\n",
       "      <td>51</td>\n",
       "      <td>95</td>\n",
       "      <td>86</td>\n",
       "    </tr>\n",
       "    <tr>\n",
       "      <th>同学4</th>\n",
       "      <td>43</td>\n",
       "      <td>58</td>\n",
       "      <td>51</td>\n",
       "      <td>77</td>\n",
       "      <td>93</td>\n",
       "    </tr>\n",
       "    <tr>\n",
       "      <th>同学5</th>\n",
       "      <td>95</td>\n",
       "      <td>89</td>\n",
       "      <td>64</td>\n",
       "      <td>48</td>\n",
       "      <td>40</td>\n",
       "    </tr>\n",
       "    <tr>\n",
       "      <th>同学6</th>\n",
       "      <td>63</td>\n",
       "      <td>87</td>\n",
       "      <td>64</td>\n",
       "      <td>60</td>\n",
       "      <td>72</td>\n",
       "    </tr>\n",
       "    <tr>\n",
       "      <th>同学7</th>\n",
       "      <td>90</td>\n",
       "      <td>78</td>\n",
       "      <td>44</td>\n",
       "      <td>83</td>\n",
       "      <td>65</td>\n",
       "    </tr>\n",
       "    <tr>\n",
       "      <th>同学8</th>\n",
       "      <td>66</td>\n",
       "      <td>43</td>\n",
       "      <td>40</td>\n",
       "      <td>68</td>\n",
       "      <td>89</td>\n",
       "    </tr>\n",
       "    <tr>\n",
       "      <th>同学9</th>\n",
       "      <td>81</td>\n",
       "      <td>75</td>\n",
       "      <td>76</td>\n",
       "      <td>83</td>\n",
       "      <td>51</td>\n",
       "    </tr>\n",
       "  </tbody>\n",
       "</table>\n",
       "</div>"
      ],
      "text/plain": [
       "     语⽂  数学  英语  政治  体育\n",
       "同学0  57  57  82  55  91\n",
       "同学1  44  87  71  99  55\n",
       "同学2  93  88  45  89  51\n",
       "同学3  42  77  51  95  86\n",
       "同学4  43  58  51  77  93\n",
       "同学5  95  89  64  48  40\n",
       "同学6  63  87  64  60  72\n",
       "同学7  90  78  44  83  65\n",
       "同学8  66  43  40  68  89\n",
       "同学9  81  75  76  83  51"
      ]
     },
     "execution_count": 12,
     "metadata": {},
     "output_type": "execute_result"
    }
   ],
   "source": [
    "subjects = [\"语⽂\", \"数学\", \"英语\", \"政治\", \"体育\"]\n",
    "stu = ['同学' + str(i) for i in range (score.shape[0])]\n",
    "data = pd.DataFrame(score, columns=subjects, index=stu)\n",
    "data"
   ]
  },
  {
   "cell_type": "markdown",
   "id": "36019dab",
   "metadata": {},
   "source": [
    "## DataFrame的属性"
   ]
  },
  {
   "cell_type": "code",
   "execution_count": 13,
   "id": "ff6ba2c2",
   "metadata": {},
   "outputs": [
    {
     "data": {
      "text/plain": [
       "(10, 5)"
      ]
     },
     "execution_count": 13,
     "metadata": {},
     "output_type": "execute_result"
    }
   ],
   "source": [
    "data.shape"
   ]
  },
  {
   "cell_type": "code",
   "execution_count": 14,
   "id": "afe706dc",
   "metadata": {},
   "outputs": [
    {
     "data": {
      "text/plain": [
       "Index(['同学0', '同学1', '同学2', '同学3', '同学4', '同学5', '同学6', '同学7', '同学8', '同学9'], dtype='object')"
      ]
     },
     "execution_count": 14,
     "metadata": {},
     "output_type": "execute_result"
    }
   ],
   "source": [
    "data.index"
   ]
  },
  {
   "cell_type": "code",
   "execution_count": 15,
   "id": "7084f037",
   "metadata": {},
   "outputs": [
    {
     "data": {
      "text/plain": [
       "Index(['语⽂', '数学', '英语', '政治', '体育'], dtype='object')"
      ]
     },
     "execution_count": 15,
     "metadata": {},
     "output_type": "execute_result"
    }
   ],
   "source": [
    "data.columns"
   ]
  },
  {
   "cell_type": "code",
   "execution_count": 16,
   "id": "2c273bea",
   "metadata": {},
   "outputs": [
    {
     "data": {
      "text/plain": [
       "array([[57, 57, 82, 55, 91],\n",
       "       [44, 87, 71, 99, 55],\n",
       "       [93, 88, 45, 89, 51],\n",
       "       [42, 77, 51, 95, 86],\n",
       "       [43, 58, 51, 77, 93],\n",
       "       [95, 89, 64, 48, 40],\n",
       "       [63, 87, 64, 60, 72],\n",
       "       [90, 78, 44, 83, 65],\n",
       "       [66, 43, 40, 68, 89],\n",
       "       [81, 75, 76, 83, 51]])"
      ]
     },
     "execution_count": 16,
     "metadata": {},
     "output_type": "execute_result"
    }
   ],
   "source": [
    "data.values"
   ]
  },
  {
   "cell_type": "code",
   "execution_count": 17,
   "id": "6526b772",
   "metadata": {},
   "outputs": [
    {
     "data": {
      "text/html": [
       "<div>\n",
       "<style scoped>\n",
       "    .dataframe tbody tr th:only-of-type {\n",
       "        vertical-align: middle;\n",
       "    }\n",
       "\n",
       "    .dataframe tbody tr th {\n",
       "        vertical-align: top;\n",
       "    }\n",
       "\n",
       "    .dataframe thead th {\n",
       "        text-align: right;\n",
       "    }\n",
       "</style>\n",
       "<table border=\"1\" class=\"dataframe\">\n",
       "  <thead>\n",
       "    <tr style=\"text-align: right;\">\n",
       "      <th></th>\n",
       "      <th>同学0</th>\n",
       "      <th>同学1</th>\n",
       "      <th>同学2</th>\n",
       "      <th>同学3</th>\n",
       "      <th>同学4</th>\n",
       "      <th>同学5</th>\n",
       "      <th>同学6</th>\n",
       "      <th>同学7</th>\n",
       "      <th>同学8</th>\n",
       "      <th>同学9</th>\n",
       "    </tr>\n",
       "  </thead>\n",
       "  <tbody>\n",
       "    <tr>\n",
       "      <th>语⽂</th>\n",
       "      <td>57</td>\n",
       "      <td>44</td>\n",
       "      <td>93</td>\n",
       "      <td>42</td>\n",
       "      <td>43</td>\n",
       "      <td>95</td>\n",
       "      <td>63</td>\n",
       "      <td>90</td>\n",
       "      <td>66</td>\n",
       "      <td>81</td>\n",
       "    </tr>\n",
       "    <tr>\n",
       "      <th>数学</th>\n",
       "      <td>57</td>\n",
       "      <td>87</td>\n",
       "      <td>88</td>\n",
       "      <td>77</td>\n",
       "      <td>58</td>\n",
       "      <td>89</td>\n",
       "      <td>87</td>\n",
       "      <td>78</td>\n",
       "      <td>43</td>\n",
       "      <td>75</td>\n",
       "    </tr>\n",
       "    <tr>\n",
       "      <th>英语</th>\n",
       "      <td>82</td>\n",
       "      <td>71</td>\n",
       "      <td>45</td>\n",
       "      <td>51</td>\n",
       "      <td>51</td>\n",
       "      <td>64</td>\n",
       "      <td>64</td>\n",
       "      <td>44</td>\n",
       "      <td>40</td>\n",
       "      <td>76</td>\n",
       "    </tr>\n",
       "    <tr>\n",
       "      <th>政治</th>\n",
       "      <td>55</td>\n",
       "      <td>99</td>\n",
       "      <td>89</td>\n",
       "      <td>95</td>\n",
       "      <td>77</td>\n",
       "      <td>48</td>\n",
       "      <td>60</td>\n",
       "      <td>83</td>\n",
       "      <td>68</td>\n",
       "      <td>83</td>\n",
       "    </tr>\n",
       "    <tr>\n",
       "      <th>体育</th>\n",
       "      <td>91</td>\n",
       "      <td>55</td>\n",
       "      <td>51</td>\n",
       "      <td>86</td>\n",
       "      <td>93</td>\n",
       "      <td>40</td>\n",
       "      <td>72</td>\n",
       "      <td>65</td>\n",
       "      <td>89</td>\n",
       "      <td>51</td>\n",
       "    </tr>\n",
       "  </tbody>\n",
       "</table>\n",
       "</div>"
      ],
      "text/plain": [
       "    同学0  同学1  同学2  同学3  同学4  同学5  同学6  同学7  同学8  同学9\n",
       "语⽂   57   44   93   42   43   95   63   90   66   81\n",
       "数学   57   87   88   77   58   89   87   78   43   75\n",
       "英语   82   71   45   51   51   64   64   44   40   76\n",
       "政治   55   99   89   95   77   48   60   83   68   83\n",
       "体育   91   55   51   86   93   40   72   65   89   51"
      ]
     },
     "execution_count": 17,
     "metadata": {},
     "output_type": "execute_result"
    }
   ],
   "source": [
    "data.T"
   ]
  },
  {
   "cell_type": "code",
   "execution_count": 18,
   "id": "4d54547e",
   "metadata": {},
   "outputs": [
    {
     "data": {
      "text/html": [
       "<div>\n",
       "<style scoped>\n",
       "    .dataframe tbody tr th:only-of-type {\n",
       "        vertical-align: middle;\n",
       "    }\n",
       "\n",
       "    .dataframe tbody tr th {\n",
       "        vertical-align: top;\n",
       "    }\n",
       "\n",
       "    .dataframe thead th {\n",
       "        text-align: right;\n",
       "    }\n",
       "</style>\n",
       "<table border=\"1\" class=\"dataframe\">\n",
       "  <thead>\n",
       "    <tr style=\"text-align: right;\">\n",
       "      <th></th>\n",
       "      <th>语⽂</th>\n",
       "      <th>数学</th>\n",
       "      <th>英语</th>\n",
       "      <th>政治</th>\n",
       "      <th>体育</th>\n",
       "    </tr>\n",
       "  </thead>\n",
       "  <tbody>\n",
       "    <tr>\n",
       "      <th>同学0</th>\n",
       "      <td>57</td>\n",
       "      <td>57</td>\n",
       "      <td>82</td>\n",
       "      <td>55</td>\n",
       "      <td>91</td>\n",
       "    </tr>\n",
       "    <tr>\n",
       "      <th>同学1</th>\n",
       "      <td>44</td>\n",
       "      <td>87</td>\n",
       "      <td>71</td>\n",
       "      <td>99</td>\n",
       "      <td>55</td>\n",
       "    </tr>\n",
       "    <tr>\n",
       "      <th>同学2</th>\n",
       "      <td>93</td>\n",
       "      <td>88</td>\n",
       "      <td>45</td>\n",
       "      <td>89</td>\n",
       "      <td>51</td>\n",
       "    </tr>\n",
       "    <tr>\n",
       "      <th>同学3</th>\n",
       "      <td>42</td>\n",
       "      <td>77</td>\n",
       "      <td>51</td>\n",
       "      <td>95</td>\n",
       "      <td>86</td>\n",
       "    </tr>\n",
       "    <tr>\n",
       "      <th>同学4</th>\n",
       "      <td>43</td>\n",
       "      <td>58</td>\n",
       "      <td>51</td>\n",
       "      <td>77</td>\n",
       "      <td>93</td>\n",
       "    </tr>\n",
       "  </tbody>\n",
       "</table>\n",
       "</div>"
      ],
      "text/plain": [
       "     语⽂  数学  英语  政治  体育\n",
       "同学0  57  57  82  55  91\n",
       "同学1  44  87  71  99  55\n",
       "同学2  93  88  45  89  51\n",
       "同学3  42  77  51  95  86\n",
       "同学4  43  58  51  77  93"
      ]
     },
     "execution_count": 18,
     "metadata": {},
     "output_type": "execute_result"
    }
   ],
   "source": [
    "data.head()"
   ]
  },
  {
   "cell_type": "code",
   "execution_count": 19,
   "id": "a3bbcf3c",
   "metadata": {},
   "outputs": [
    {
     "data": {
      "text/html": [
       "<div>\n",
       "<style scoped>\n",
       "    .dataframe tbody tr th:only-of-type {\n",
       "        vertical-align: middle;\n",
       "    }\n",
       "\n",
       "    .dataframe tbody tr th {\n",
       "        vertical-align: top;\n",
       "    }\n",
       "\n",
       "    .dataframe thead th {\n",
       "        text-align: right;\n",
       "    }\n",
       "</style>\n",
       "<table border=\"1\" class=\"dataframe\">\n",
       "  <thead>\n",
       "    <tr style=\"text-align: right;\">\n",
       "      <th></th>\n",
       "      <th>语⽂</th>\n",
       "      <th>数学</th>\n",
       "      <th>英语</th>\n",
       "      <th>政治</th>\n",
       "      <th>体育</th>\n",
       "    </tr>\n",
       "  </thead>\n",
       "  <tbody>\n",
       "    <tr>\n",
       "      <th>同学0</th>\n",
       "      <td>57</td>\n",
       "      <td>57</td>\n",
       "      <td>82</td>\n",
       "      <td>55</td>\n",
       "      <td>91</td>\n",
       "    </tr>\n",
       "    <tr>\n",
       "      <th>同学1</th>\n",
       "      <td>44</td>\n",
       "      <td>87</td>\n",
       "      <td>71</td>\n",
       "      <td>99</td>\n",
       "      <td>55</td>\n",
       "    </tr>\n",
       "    <tr>\n",
       "      <th>同学2</th>\n",
       "      <td>93</td>\n",
       "      <td>88</td>\n",
       "      <td>45</td>\n",
       "      <td>89</td>\n",
       "      <td>51</td>\n",
       "    </tr>\n",
       "  </tbody>\n",
       "</table>\n",
       "</div>"
      ],
      "text/plain": [
       "     语⽂  数学  英语  政治  体育\n",
       "同学0  57  57  82  55  91\n",
       "同学1  44  87  71  99  55\n",
       "同学2  93  88  45  89  51"
      ]
     },
     "execution_count": 19,
     "metadata": {},
     "output_type": "execute_result"
    }
   ],
   "source": [
    "data.head(3)"
   ]
  },
  {
   "cell_type": "code",
   "execution_count": 20,
   "id": "463f23bd",
   "metadata": {},
   "outputs": [
    {
     "data": {
      "text/html": [
       "<div>\n",
       "<style scoped>\n",
       "    .dataframe tbody tr th:only-of-type {\n",
       "        vertical-align: middle;\n",
       "    }\n",
       "\n",
       "    .dataframe tbody tr th {\n",
       "        vertical-align: top;\n",
       "    }\n",
       "\n",
       "    .dataframe thead th {\n",
       "        text-align: right;\n",
       "    }\n",
       "</style>\n",
       "<table border=\"1\" class=\"dataframe\">\n",
       "  <thead>\n",
       "    <tr style=\"text-align: right;\">\n",
       "      <th></th>\n",
       "      <th>语⽂</th>\n",
       "      <th>数学</th>\n",
       "      <th>英语</th>\n",
       "      <th>政治</th>\n",
       "      <th>体育</th>\n",
       "    </tr>\n",
       "  </thead>\n",
       "  <tbody>\n",
       "    <tr>\n",
       "      <th>同学5</th>\n",
       "      <td>95</td>\n",
       "      <td>89</td>\n",
       "      <td>64</td>\n",
       "      <td>48</td>\n",
       "      <td>40</td>\n",
       "    </tr>\n",
       "    <tr>\n",
       "      <th>同学6</th>\n",
       "      <td>63</td>\n",
       "      <td>87</td>\n",
       "      <td>64</td>\n",
       "      <td>60</td>\n",
       "      <td>72</td>\n",
       "    </tr>\n",
       "    <tr>\n",
       "      <th>同学7</th>\n",
       "      <td>90</td>\n",
       "      <td>78</td>\n",
       "      <td>44</td>\n",
       "      <td>83</td>\n",
       "      <td>65</td>\n",
       "    </tr>\n",
       "    <tr>\n",
       "      <th>同学8</th>\n",
       "      <td>66</td>\n",
       "      <td>43</td>\n",
       "      <td>40</td>\n",
       "      <td>68</td>\n",
       "      <td>89</td>\n",
       "    </tr>\n",
       "    <tr>\n",
       "      <th>同学9</th>\n",
       "      <td>81</td>\n",
       "      <td>75</td>\n",
       "      <td>76</td>\n",
       "      <td>83</td>\n",
       "      <td>51</td>\n",
       "    </tr>\n",
       "  </tbody>\n",
       "</table>\n",
       "</div>"
      ],
      "text/plain": [
       "     语⽂  数学  英语  政治  体育\n",
       "同学5  95  89  64  48  40\n",
       "同学6  63  87  64  60  72\n",
       "同学7  90  78  44  83  65\n",
       "同学8  66  43  40  68  89\n",
       "同学9  81  75  76  83  51"
      ]
     },
     "execution_count": 20,
     "metadata": {},
     "output_type": "execute_result"
    }
   ],
   "source": [
    "data.tail()"
   ]
  },
  {
   "cell_type": "code",
   "execution_count": 21,
   "id": "576f9815",
   "metadata": {},
   "outputs": [
    {
     "data": {
      "text/html": [
       "<div>\n",
       "<style scoped>\n",
       "    .dataframe tbody tr th:only-of-type {\n",
       "        vertical-align: middle;\n",
       "    }\n",
       "\n",
       "    .dataframe tbody tr th {\n",
       "        vertical-align: top;\n",
       "    }\n",
       "\n",
       "    .dataframe thead th {\n",
       "        text-align: right;\n",
       "    }\n",
       "</style>\n",
       "<table border=\"1\" class=\"dataframe\">\n",
       "  <thead>\n",
       "    <tr style=\"text-align: right;\">\n",
       "      <th></th>\n",
       "      <th>语⽂</th>\n",
       "      <th>数学</th>\n",
       "      <th>英语</th>\n",
       "      <th>政治</th>\n",
       "      <th>体育</th>\n",
       "    </tr>\n",
       "  </thead>\n",
       "  <tbody>\n",
       "    <tr>\n",
       "      <th>同学7</th>\n",
       "      <td>90</td>\n",
       "      <td>78</td>\n",
       "      <td>44</td>\n",
       "      <td>83</td>\n",
       "      <td>65</td>\n",
       "    </tr>\n",
       "    <tr>\n",
       "      <th>同学8</th>\n",
       "      <td>66</td>\n",
       "      <td>43</td>\n",
       "      <td>40</td>\n",
       "      <td>68</td>\n",
       "      <td>89</td>\n",
       "    </tr>\n",
       "    <tr>\n",
       "      <th>同学9</th>\n",
       "      <td>81</td>\n",
       "      <td>75</td>\n",
       "      <td>76</td>\n",
       "      <td>83</td>\n",
       "      <td>51</td>\n",
       "    </tr>\n",
       "  </tbody>\n",
       "</table>\n",
       "</div>"
      ],
      "text/plain": [
       "     语⽂  数学  英语  政治  体育\n",
       "同学7  90  78  44  83  65\n",
       "同学8  66  43  40  68  89\n",
       "同学9  81  75  76  83  51"
      ]
     },
     "execution_count": 21,
     "metadata": {},
     "output_type": "execute_result"
    }
   ],
   "source": [
    "data.tail(3)"
   ]
  },
  {
   "cell_type": "markdown",
   "id": "a374a1d5",
   "metadata": {},
   "source": [
    "## DatatFrame索引的设置 "
   ]
  },
  {
   "cell_type": "code",
   "execution_count": 22,
   "id": "73392514",
   "metadata": {},
   "outputs": [
    {
     "data": {
      "text/html": [
       "<div>\n",
       "<style scoped>\n",
       "    .dataframe tbody tr th:only-of-type {\n",
       "        vertical-align: middle;\n",
       "    }\n",
       "\n",
       "    .dataframe tbody tr th {\n",
       "        vertical-align: top;\n",
       "    }\n",
       "\n",
       "    .dataframe thead th {\n",
       "        text-align: right;\n",
       "    }\n",
       "</style>\n",
       "<table border=\"1\" class=\"dataframe\">\n",
       "  <thead>\n",
       "    <tr style=\"text-align: right;\">\n",
       "      <th></th>\n",
       "      <th>语⽂</th>\n",
       "      <th>数学</th>\n",
       "      <th>英语</th>\n",
       "      <th>政治</th>\n",
       "      <th>体育</th>\n",
       "    </tr>\n",
       "  </thead>\n",
       "  <tbody>\n",
       "    <tr>\n",
       "      <th>同学_0</th>\n",
       "      <td>57</td>\n",
       "      <td>57</td>\n",
       "      <td>82</td>\n",
       "      <td>55</td>\n",
       "      <td>91</td>\n",
       "    </tr>\n",
       "    <tr>\n",
       "      <th>同学_1</th>\n",
       "      <td>44</td>\n",
       "      <td>87</td>\n",
       "      <td>71</td>\n",
       "      <td>99</td>\n",
       "      <td>55</td>\n",
       "    </tr>\n",
       "    <tr>\n",
       "      <th>同学_2</th>\n",
       "      <td>93</td>\n",
       "      <td>88</td>\n",
       "      <td>45</td>\n",
       "      <td>89</td>\n",
       "      <td>51</td>\n",
       "    </tr>\n",
       "    <tr>\n",
       "      <th>同学_3</th>\n",
       "      <td>42</td>\n",
       "      <td>77</td>\n",
       "      <td>51</td>\n",
       "      <td>95</td>\n",
       "      <td>86</td>\n",
       "    </tr>\n",
       "    <tr>\n",
       "      <th>同学_4</th>\n",
       "      <td>43</td>\n",
       "      <td>58</td>\n",
       "      <td>51</td>\n",
       "      <td>77</td>\n",
       "      <td>93</td>\n",
       "    </tr>\n",
       "    <tr>\n",
       "      <th>同学_5</th>\n",
       "      <td>95</td>\n",
       "      <td>89</td>\n",
       "      <td>64</td>\n",
       "      <td>48</td>\n",
       "      <td>40</td>\n",
       "    </tr>\n",
       "    <tr>\n",
       "      <th>同学_6</th>\n",
       "      <td>63</td>\n",
       "      <td>87</td>\n",
       "      <td>64</td>\n",
       "      <td>60</td>\n",
       "      <td>72</td>\n",
       "    </tr>\n",
       "    <tr>\n",
       "      <th>同学_7</th>\n",
       "      <td>90</td>\n",
       "      <td>78</td>\n",
       "      <td>44</td>\n",
       "      <td>83</td>\n",
       "      <td>65</td>\n",
       "    </tr>\n",
       "    <tr>\n",
       "      <th>同学_8</th>\n",
       "      <td>66</td>\n",
       "      <td>43</td>\n",
       "      <td>40</td>\n",
       "      <td>68</td>\n",
       "      <td>89</td>\n",
       "    </tr>\n",
       "    <tr>\n",
       "      <th>同学_9</th>\n",
       "      <td>81</td>\n",
       "      <td>75</td>\n",
       "      <td>76</td>\n",
       "      <td>83</td>\n",
       "      <td>51</td>\n",
       "    </tr>\n",
       "  </tbody>\n",
       "</table>\n",
       "</div>"
      ],
      "text/plain": [
       "      语⽂  数学  英语  政治  体育\n",
       "同学_0  57  57  82  55  91\n",
       "同学_1  44  87  71  99  55\n",
       "同学_2  93  88  45  89  51\n",
       "同学_3  42  77  51  95  86\n",
       "同学_4  43  58  51  77  93\n",
       "同学_5  95  89  64  48  40\n",
       "同学_6  63  87  64  60  72\n",
       "同学_7  90  78  44  83  65\n",
       "同学_8  66  43  40  68  89\n",
       "同学_9  81  75  76  83  51"
      ]
     },
     "execution_count": 22,
     "metadata": {},
     "output_type": "execute_result"
    }
   ],
   "source": [
    "stu = ['同学_' + str(i) for i in range (score.shape[0])]\n",
    "data.index = stu\n",
    "data"
   ]
  },
  {
   "cell_type": "code",
   "execution_count": 23,
   "id": "0e8612b8",
   "metadata": {},
   "outputs": [],
   "source": [
    "# data.index[2] = \"同学__\" # 不能单独修改"
   ]
  },
  {
   "cell_type": "code",
   "execution_count": 24,
   "id": "0e7b6431",
   "metadata": {},
   "outputs": [
    {
     "data": {
      "text/html": [
       "<div>\n",
       "<style scoped>\n",
       "    .dataframe tbody tr th:only-of-type {\n",
       "        vertical-align: middle;\n",
       "    }\n",
       "\n",
       "    .dataframe tbody tr th {\n",
       "        vertical-align: top;\n",
       "    }\n",
       "\n",
       "    .dataframe thead th {\n",
       "        text-align: right;\n",
       "    }\n",
       "</style>\n",
       "<table border=\"1\" class=\"dataframe\">\n",
       "  <thead>\n",
       "    <tr style=\"text-align: right;\">\n",
       "      <th></th>\n",
       "      <th>index</th>\n",
       "      <th>语⽂</th>\n",
       "      <th>数学</th>\n",
       "      <th>英语</th>\n",
       "      <th>政治</th>\n",
       "      <th>体育</th>\n",
       "    </tr>\n",
       "  </thead>\n",
       "  <tbody>\n",
       "    <tr>\n",
       "      <th>0</th>\n",
       "      <td>同学_0</td>\n",
       "      <td>57</td>\n",
       "      <td>57</td>\n",
       "      <td>82</td>\n",
       "      <td>55</td>\n",
       "      <td>91</td>\n",
       "    </tr>\n",
       "    <tr>\n",
       "      <th>1</th>\n",
       "      <td>同学_1</td>\n",
       "      <td>44</td>\n",
       "      <td>87</td>\n",
       "      <td>71</td>\n",
       "      <td>99</td>\n",
       "      <td>55</td>\n",
       "    </tr>\n",
       "    <tr>\n",
       "      <th>2</th>\n",
       "      <td>同学_2</td>\n",
       "      <td>93</td>\n",
       "      <td>88</td>\n",
       "      <td>45</td>\n",
       "      <td>89</td>\n",
       "      <td>51</td>\n",
       "    </tr>\n",
       "    <tr>\n",
       "      <th>3</th>\n",
       "      <td>同学_3</td>\n",
       "      <td>42</td>\n",
       "      <td>77</td>\n",
       "      <td>51</td>\n",
       "      <td>95</td>\n",
       "      <td>86</td>\n",
       "    </tr>\n",
       "    <tr>\n",
       "      <th>4</th>\n",
       "      <td>同学_4</td>\n",
       "      <td>43</td>\n",
       "      <td>58</td>\n",
       "      <td>51</td>\n",
       "      <td>77</td>\n",
       "      <td>93</td>\n",
       "    </tr>\n",
       "    <tr>\n",
       "      <th>5</th>\n",
       "      <td>同学_5</td>\n",
       "      <td>95</td>\n",
       "      <td>89</td>\n",
       "      <td>64</td>\n",
       "      <td>48</td>\n",
       "      <td>40</td>\n",
       "    </tr>\n",
       "    <tr>\n",
       "      <th>6</th>\n",
       "      <td>同学_6</td>\n",
       "      <td>63</td>\n",
       "      <td>87</td>\n",
       "      <td>64</td>\n",
       "      <td>60</td>\n",
       "      <td>72</td>\n",
       "    </tr>\n",
       "    <tr>\n",
       "      <th>7</th>\n",
       "      <td>同学_7</td>\n",
       "      <td>90</td>\n",
       "      <td>78</td>\n",
       "      <td>44</td>\n",
       "      <td>83</td>\n",
       "      <td>65</td>\n",
       "    </tr>\n",
       "    <tr>\n",
       "      <th>8</th>\n",
       "      <td>同学_8</td>\n",
       "      <td>66</td>\n",
       "      <td>43</td>\n",
       "      <td>40</td>\n",
       "      <td>68</td>\n",
       "      <td>89</td>\n",
       "    </tr>\n",
       "    <tr>\n",
       "      <th>9</th>\n",
       "      <td>同学_9</td>\n",
       "      <td>81</td>\n",
       "      <td>75</td>\n",
       "      <td>76</td>\n",
       "      <td>83</td>\n",
       "      <td>51</td>\n",
       "    </tr>\n",
       "  </tbody>\n",
       "</table>\n",
       "</div>"
      ],
      "text/plain": [
       "  index  语⽂  数学  英语  政治  体育\n",
       "0  同学_0  57  57  82  55  91\n",
       "1  同学_1  44  87  71  99  55\n",
       "2  同学_2  93  88  45  89  51\n",
       "3  同学_3  42  77  51  95  86\n",
       "4  同学_4  43  58  51  77  93\n",
       "5  同学_5  95  89  64  48  40\n",
       "6  同学_6  63  87  64  60  72\n",
       "7  同学_7  90  78  44  83  65\n",
       "8  同学_8  66  43  40  68  89\n",
       "9  同学_9  81  75  76  83  51"
      ]
     },
     "execution_count": 24,
     "metadata": {},
     "output_type": "execute_result"
    }
   ],
   "source": [
    "data.reset_index()"
   ]
  },
  {
   "cell_type": "code",
   "execution_count": 25,
   "id": "34f4074f",
   "metadata": {},
   "outputs": [
    {
     "data": {
      "text/html": [
       "<div>\n",
       "<style scoped>\n",
       "    .dataframe tbody tr th:only-of-type {\n",
       "        vertical-align: middle;\n",
       "    }\n",
       "\n",
       "    .dataframe tbody tr th {\n",
       "        vertical-align: top;\n",
       "    }\n",
       "\n",
       "    .dataframe thead th {\n",
       "        text-align: right;\n",
       "    }\n",
       "</style>\n",
       "<table border=\"1\" class=\"dataframe\">\n",
       "  <thead>\n",
       "    <tr style=\"text-align: right;\">\n",
       "      <th></th>\n",
       "      <th>语⽂</th>\n",
       "      <th>数学</th>\n",
       "      <th>英语</th>\n",
       "      <th>政治</th>\n",
       "      <th>体育</th>\n",
       "    </tr>\n",
       "  </thead>\n",
       "  <tbody>\n",
       "    <tr>\n",
       "      <th>0</th>\n",
       "      <td>57</td>\n",
       "      <td>57</td>\n",
       "      <td>82</td>\n",
       "      <td>55</td>\n",
       "      <td>91</td>\n",
       "    </tr>\n",
       "    <tr>\n",
       "      <th>1</th>\n",
       "      <td>44</td>\n",
       "      <td>87</td>\n",
       "      <td>71</td>\n",
       "      <td>99</td>\n",
       "      <td>55</td>\n",
       "    </tr>\n",
       "    <tr>\n",
       "      <th>2</th>\n",
       "      <td>93</td>\n",
       "      <td>88</td>\n",
       "      <td>45</td>\n",
       "      <td>89</td>\n",
       "      <td>51</td>\n",
       "    </tr>\n",
       "    <tr>\n",
       "      <th>3</th>\n",
       "      <td>42</td>\n",
       "      <td>77</td>\n",
       "      <td>51</td>\n",
       "      <td>95</td>\n",
       "      <td>86</td>\n",
       "    </tr>\n",
       "    <tr>\n",
       "      <th>4</th>\n",
       "      <td>43</td>\n",
       "      <td>58</td>\n",
       "      <td>51</td>\n",
       "      <td>77</td>\n",
       "      <td>93</td>\n",
       "    </tr>\n",
       "    <tr>\n",
       "      <th>5</th>\n",
       "      <td>95</td>\n",
       "      <td>89</td>\n",
       "      <td>64</td>\n",
       "      <td>48</td>\n",
       "      <td>40</td>\n",
       "    </tr>\n",
       "    <tr>\n",
       "      <th>6</th>\n",
       "      <td>63</td>\n",
       "      <td>87</td>\n",
       "      <td>64</td>\n",
       "      <td>60</td>\n",
       "      <td>72</td>\n",
       "    </tr>\n",
       "    <tr>\n",
       "      <th>7</th>\n",
       "      <td>90</td>\n",
       "      <td>78</td>\n",
       "      <td>44</td>\n",
       "      <td>83</td>\n",
       "      <td>65</td>\n",
       "    </tr>\n",
       "    <tr>\n",
       "      <th>8</th>\n",
       "      <td>66</td>\n",
       "      <td>43</td>\n",
       "      <td>40</td>\n",
       "      <td>68</td>\n",
       "      <td>89</td>\n",
       "    </tr>\n",
       "    <tr>\n",
       "      <th>9</th>\n",
       "      <td>81</td>\n",
       "      <td>75</td>\n",
       "      <td>76</td>\n",
       "      <td>83</td>\n",
       "      <td>51</td>\n",
       "    </tr>\n",
       "  </tbody>\n",
       "</table>\n",
       "</div>"
      ],
      "text/plain": [
       "   语⽂  数学  英语  政治  体育\n",
       "0  57  57  82  55  91\n",
       "1  44  87  71  99  55\n",
       "2  93  88  45  89  51\n",
       "3  42  77  51  95  86\n",
       "4  43  58  51  77  93\n",
       "5  95  89  64  48  40\n",
       "6  63  87  64  60  72\n",
       "7  90  78  44  83  65\n",
       "8  66  43  40  68  89\n",
       "9  81  75  76  83  51"
      ]
     },
     "execution_count": 25,
     "metadata": {},
     "output_type": "execute_result"
    }
   ],
   "source": [
    "data.reset_index(drop=True)"
   ]
  },
  {
   "cell_type": "code",
   "execution_count": 26,
   "id": "bad5b8be",
   "metadata": {},
   "outputs": [
    {
     "data": {
      "text/html": [
       "<div>\n",
       "<style scoped>\n",
       "    .dataframe tbody tr th:only-of-type {\n",
       "        vertical-align: middle;\n",
       "    }\n",
       "\n",
       "    .dataframe tbody tr th {\n",
       "        vertical-align: top;\n",
       "    }\n",
       "\n",
       "    .dataframe thead th {\n",
       "        text-align: right;\n",
       "    }\n",
       "</style>\n",
       "<table border=\"1\" class=\"dataframe\">\n",
       "  <thead>\n",
       "    <tr style=\"text-align: right;\">\n",
       "      <th></th>\n",
       "      <th>month</th>\n",
       "      <th>year</th>\n",
       "      <th>sale</th>\n",
       "    </tr>\n",
       "  </thead>\n",
       "  <tbody>\n",
       "    <tr>\n",
       "      <th>0</th>\n",
       "      <td>1</td>\n",
       "      <td>2012</td>\n",
       "      <td>55</td>\n",
       "    </tr>\n",
       "    <tr>\n",
       "      <th>1</th>\n",
       "      <td>4</td>\n",
       "      <td>2014</td>\n",
       "      <td>40</td>\n",
       "    </tr>\n",
       "    <tr>\n",
       "      <th>2</th>\n",
       "      <td>7</td>\n",
       "      <td>2013</td>\n",
       "      <td>84</td>\n",
       "    </tr>\n",
       "    <tr>\n",
       "      <th>3</th>\n",
       "      <td>10</td>\n",
       "      <td>2014</td>\n",
       "      <td>31</td>\n",
       "    </tr>\n",
       "  </tbody>\n",
       "</table>\n",
       "</div>"
      ],
      "text/plain": [
       "   month  year  sale\n",
       "0      1  2012    55\n",
       "1      4  2014    40\n",
       "2      7  2013    84\n",
       "3     10  2014    31"
      ]
     },
     "execution_count": 26,
     "metadata": {},
     "output_type": "execute_result"
    }
   ],
   "source": [
    "df = pd.DataFrame({'month': [1, 4, 7, 10],\n",
    "'year': [2012, 2014, 2013, 2014],\n",
    "'sale':[55, 40, 84, 31]})\n",
    "df"
   ]
  },
  {
   "cell_type": "code",
   "execution_count": 27,
   "id": "9962f89c",
   "metadata": {},
   "outputs": [
    {
     "data": {
      "text/html": [
       "<div>\n",
       "<style scoped>\n",
       "    .dataframe tbody tr th:only-of-type {\n",
       "        vertical-align: middle;\n",
       "    }\n",
       "\n",
       "    .dataframe tbody tr th {\n",
       "        vertical-align: top;\n",
       "    }\n",
       "\n",
       "    .dataframe thead th {\n",
       "        text-align: right;\n",
       "    }\n",
       "</style>\n",
       "<table border=\"1\" class=\"dataframe\">\n",
       "  <thead>\n",
       "    <tr style=\"text-align: right;\">\n",
       "      <th></th>\n",
       "      <th>month</th>\n",
       "      <th>sale</th>\n",
       "    </tr>\n",
       "    <tr>\n",
       "      <th>year</th>\n",
       "      <th></th>\n",
       "      <th></th>\n",
       "    </tr>\n",
       "  </thead>\n",
       "  <tbody>\n",
       "    <tr>\n",
       "      <th>2012</th>\n",
       "      <td>1</td>\n",
       "      <td>55</td>\n",
       "    </tr>\n",
       "    <tr>\n",
       "      <th>2014</th>\n",
       "      <td>4</td>\n",
       "      <td>40</td>\n",
       "    </tr>\n",
       "    <tr>\n",
       "      <th>2013</th>\n",
       "      <td>7</td>\n",
       "      <td>84</td>\n",
       "    </tr>\n",
       "    <tr>\n",
       "      <th>2014</th>\n",
       "      <td>10</td>\n",
       "      <td>31</td>\n",
       "    </tr>\n",
       "  </tbody>\n",
       "</table>\n",
       "</div>"
      ],
      "text/plain": [
       "      month  sale\n",
       "year             \n",
       "2012      1    55\n",
       "2014      4    40\n",
       "2013      7    84\n",
       "2014     10    31"
      ]
     },
     "execution_count": 27,
     "metadata": {},
     "output_type": "execute_result"
    }
   ],
   "source": [
    "df.set_index(\"year\")"
   ]
  },
  {
   "cell_type": "code",
   "execution_count": 33,
   "id": "8ff95635",
   "metadata": {},
   "outputs": [],
   "source": [
    "df = df.set_index(['year','month'])"
   ]
  },
  {
   "cell_type": "markdown",
   "id": "02c6e47b",
   "metadata": {},
   "source": [
    "# MultiIndex与Panel\n",
    "## MultiIndex"
   ]
  },
  {
   "cell_type": "code",
   "execution_count": 34,
   "id": "6ad4d4ce",
   "metadata": {},
   "outputs": [
    {
     "data": {
      "text/html": [
       "<div>\n",
       "<style scoped>\n",
       "    .dataframe tbody tr th:only-of-type {\n",
       "        vertical-align: middle;\n",
       "    }\n",
       "\n",
       "    .dataframe tbody tr th {\n",
       "        vertical-align: top;\n",
       "    }\n",
       "\n",
       "    .dataframe thead th {\n",
       "        text-align: right;\n",
       "    }\n",
       "</style>\n",
       "<table border=\"1\" class=\"dataframe\">\n",
       "  <thead>\n",
       "    <tr style=\"text-align: right;\">\n",
       "      <th></th>\n",
       "      <th></th>\n",
       "      <th>sale</th>\n",
       "    </tr>\n",
       "    <tr>\n",
       "      <th>year</th>\n",
       "      <th>month</th>\n",
       "      <th></th>\n",
       "    </tr>\n",
       "  </thead>\n",
       "  <tbody>\n",
       "    <tr>\n",
       "      <th>2012</th>\n",
       "      <th>1</th>\n",
       "      <td>55</td>\n",
       "    </tr>\n",
       "    <tr>\n",
       "      <th>2014</th>\n",
       "      <th>4</th>\n",
       "      <td>40</td>\n",
       "    </tr>\n",
       "    <tr>\n",
       "      <th>2013</th>\n",
       "      <th>7</th>\n",
       "      <td>84</td>\n",
       "    </tr>\n",
       "    <tr>\n",
       "      <th>2014</th>\n",
       "      <th>10</th>\n",
       "      <td>31</td>\n",
       "    </tr>\n",
       "  </tbody>\n",
       "</table>\n",
       "</div>"
      ],
      "text/plain": [
       "            sale\n",
       "year month      \n",
       "2012 1        55\n",
       "2014 4        40\n",
       "2013 7        84\n",
       "2014 10       31"
      ]
     },
     "execution_count": 34,
     "metadata": {},
     "output_type": "execute_result"
    }
   ],
   "source": [
    "df"
   ]
  },
  {
   "cell_type": "code",
   "execution_count": 35,
   "id": "fa067806",
   "metadata": {},
   "outputs": [
    {
     "data": {
      "text/plain": [
       "MultiIndex([(2012,  1),\n",
       "            (2014,  4),\n",
       "            (2013,  7),\n",
       "            (2014, 10)],\n",
       "           names=['year', 'month'])"
      ]
     },
     "execution_count": 35,
     "metadata": {},
     "output_type": "execute_result"
    }
   ],
   "source": [
    "df.index"
   ]
  },
  {
   "cell_type": "code",
   "execution_count": 36,
   "id": "4fb9990f",
   "metadata": {},
   "outputs": [
    {
     "data": {
      "text/plain": [
       "FrozenList(['year', 'month'])"
      ]
     },
     "execution_count": 36,
     "metadata": {},
     "output_type": "execute_result"
    }
   ],
   "source": [
    "df.index.names"
   ]
  },
  {
   "cell_type": "code",
   "execution_count": 37,
   "id": "3cbad9f5",
   "metadata": {},
   "outputs": [
    {
     "data": {
      "text/plain": [
       "FrozenList([[2012, 2013, 2014], [1, 4, 7, 10]])"
      ]
     },
     "execution_count": 37,
     "metadata": {},
     "output_type": "execute_result"
    }
   ],
   "source": [
    "df.index.levels"
   ]
  },
  {
   "cell_type": "code",
   "execution_count": 39,
   "id": "6296a298",
   "metadata": {},
   "outputs": [],
   "source": [
    "arrays = [[1, 1, 2, 2], ['red', 'blue', 'red', 'blue']]"
   ]
  },
  {
   "cell_type": "code",
   "execution_count": 41,
   "id": "ac8fc6c2",
   "metadata": {},
   "outputs": [
    {
     "data": {
      "text/plain": [
       "MultiIndex([(1,  'red'),\n",
       "            (1, 'blue'),\n",
       "            (2,  'red'),\n",
       "            (2, 'blue')],\n",
       "           names=['number', 'color'])"
      ]
     },
     "execution_count": 41,
     "metadata": {},
     "output_type": "execute_result"
    }
   ],
   "source": [
    "pd.MultiIndex.from_arrays(arrays, names=('number', 'color'))"
   ]
  },
  {
   "cell_type": "markdown",
   "id": "c09d64d7",
   "metadata": {},
   "source": [
    "## Panel"
   ]
  },
  {
   "cell_type": "code",
   "execution_count": 51,
   "id": "2694ce4e",
   "metadata": {},
   "outputs": [
    {
     "ename": "AttributeError",
     "evalue": "module 'pandas' has no attribute 'Panel'",
     "output_type": "error",
     "traceback": [
      "\u001b[0;31m---------------------------------------------------------------------------\u001b[0m",
      "\u001b[0;31mAttributeError\u001b[0m                            Traceback (most recent call last)",
      "Cell \u001b[0;32mIn[51], line 1\u001b[0m\n\u001b[0;32m----> 1\u001b[0m p \u001b[38;5;241m=\u001b[39m \u001b[43mpd\u001b[49m\u001b[38;5;241;43m.\u001b[39;49m\u001b[43mPanel\u001b[49m(data\u001b[38;5;241m=\u001b[39mnp\u001b[38;5;241m.\u001b[39marange(\u001b[38;5;241m24\u001b[39m)\u001b[38;5;241m.\u001b[39mreshape(\u001b[38;5;241m4\u001b[39m,\u001b[38;5;241m3\u001b[39m,\u001b[38;5;241m2\u001b[39m),\n\u001b[1;32m      2\u001b[0m                 items\u001b[38;5;241m=\u001b[39m\u001b[38;5;28mlist\u001b[39m(\u001b[38;5;124m'\u001b[39m\u001b[38;5;124mABCD\u001b[39m\u001b[38;5;124m'\u001b[39m),\n\u001b[1;32m      3\u001b[0m                 major_axis\u001b[38;5;241m=\u001b[39mpd\u001b[38;5;241m.\u001b[39mdate_range(\u001b[38;5;124m'\u001b[39m\u001b[38;5;124m20130101\u001b[39m\u001b[38;5;124m'\u001b[39m, periods\u001b[38;5;241m=\u001b[39m\u001b[38;5;241m3\u001b[39m),\n\u001b[1;32m      4\u001b[0m                 minor_axis\u001b[38;5;241m=\u001b[39m[\u001b[38;5;124m'\u001b[39m\u001b[38;5;124mfirst\u001b[39m\u001b[38;5;124m'\u001b[39m, \u001b[38;5;124m'\u001b[39m\u001b[38;5;124msecond\u001b[39m\u001b[38;5;124m'\u001b[39m])\n",
      "File \u001b[0;32m~/miniconda3/envs/ai/lib/python3.8/site-packages/pandas/__init__.py:264\u001b[0m, in \u001b[0;36m__getattr__\u001b[0;34m(name)\u001b[0m\n\u001b[1;32m    260\u001b[0m     \u001b[38;5;28;01mfrom\u001b[39;00m \u001b[38;5;21;01mpandas\u001b[39;00m\u001b[38;5;21;01m.\u001b[39;00m\u001b[38;5;21;01mcore\u001b[39;00m\u001b[38;5;21;01m.\u001b[39;00m\u001b[38;5;21;01marrays\u001b[39;00m\u001b[38;5;21;01m.\u001b[39;00m\u001b[38;5;21;01msparse\u001b[39;00m \u001b[38;5;28;01mimport\u001b[39;00m SparseArray \u001b[38;5;28;01mas\u001b[39;00m _SparseArray\n\u001b[1;32m    262\u001b[0m     \u001b[38;5;28;01mreturn\u001b[39;00m _SparseArray\n\u001b[0;32m--> 264\u001b[0m \u001b[38;5;28;01mraise\u001b[39;00m \u001b[38;5;167;01mAttributeError\u001b[39;00m(\u001b[38;5;124mf\u001b[39m\u001b[38;5;124m\"\u001b[39m\u001b[38;5;124mmodule \u001b[39m\u001b[38;5;124m'\u001b[39m\u001b[38;5;124mpandas\u001b[39m\u001b[38;5;124m'\u001b[39m\u001b[38;5;124m has no attribute \u001b[39m\u001b[38;5;124m'\u001b[39m\u001b[38;5;132;01m{\u001b[39;00mname\u001b[38;5;132;01m}\u001b[39;00m\u001b[38;5;124m'\u001b[39m\u001b[38;5;124m\"\u001b[39m)\n",
      "\u001b[0;31mAttributeError\u001b[0m: module 'pandas' has no attribute 'Panel'"
     ]
    }
   ],
   "source": [
    "p = pd.Panel(data=np.arange(24).reshape(4,3,2),\n",
    "                items=list('ABCD'),\n",
    "                major_axis=pd.date_range('20130101', periods=3),\n",
    "                minor_axis=['first', 'second'])"
   ]
  },
  {
   "cell_type": "code",
   "execution_count": null,
   "id": "744156e0",
   "metadata": {},
   "outputs": [],
   "source": []
  }
 ],
 "metadata": {
  "kernelspec": {
   "display_name": "Python 3 (ipykernel)",
   "language": "python",
   "name": "python3"
  },
  "language_info": {
   "codemirror_mode": {
    "name": "ipython",
    "version": 3
   },
   "file_extension": ".py",
   "mimetype": "text/x-python",
   "name": "python",
   "nbconvert_exporter": "python",
   "pygments_lexer": "ipython3",
   "version": "3.8.16"
  },
  "toc": {
   "base_numbering": 1,
   "nav_menu": {},
   "number_sections": true,
   "sideBar": true,
   "skip_h1_title": false,
   "title_cell": "Table of Contents",
   "title_sidebar": "Contents",
   "toc_cell": false,
   "toc_position": {},
   "toc_section_display": true,
   "toc_window_display": false
  }
 },
 "nbformat": 4,
 "nbformat_minor": 5
}
